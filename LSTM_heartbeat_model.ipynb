{
  "nbformat": 4,
  "nbformat_minor": 0,
  "metadata": {
    "colab": {
      "name": "LSTM heartbeat model.ipynb",
      "provenance": [],
      "collapsed_sections": []
    },
    "kernelspec": {
      "name": "python3",
      "display_name": "Python 3"
    }
  },
  "cells": [
    {
      "cell_type": "code",
      "metadata": {
        "id": "1ya-L7oEBSSb",
        "colab": {
          "base_uri": "https://localhost:8080/"
        },
        "outputId": "9381b95a-edee-4e9a-ec0f-891092b9ad00"
      },
      "source": [
        "from google.colab import drive\n",
        "drive.mount('/content/drive')"
      ],
      "execution_count": null,
      "outputs": [
        {
          "output_type": "stream",
          "text": [
            "Mounted at /content/drive\n"
          ],
          "name": "stdout"
        }
      ]
    },
    {
      "cell_type": "markdown",
      "metadata": {
        "id": "AI4E59bPCh5H"
      },
      "source": [
        "Classes: ['N': 0, 'S': 1, 'V': 2, 'F': 3, 'Q': 4]"
      ]
    },
    {
      "cell_type": "code",
      "metadata": {
        "id": "ilC1c-LbA4PO"
      },
      "source": [
        "import pandas as pd"
      ],
      "execution_count": null,
      "outputs": []
    },
    {
      "cell_type": "markdown",
      "metadata": {
        "id": "ZNAUUG_kt6Dw"
      },
      "source": [
        "Read training file"
      ]
    },
    {
      "cell_type": "code",
      "metadata": {
        "id": "Q2OZs60DBsb2",
        "colab": {
          "base_uri": "https://localhost:8080/",
          "height": 247
        },
        "outputId": "e152efd3-5714-4831-cee0-893b1b5e5bc1"
      },
      "source": [
        "df_train = pd.read_csv('/content/drive/My Drive/heartbeat_dataset/mitbih_train.csv',header=None)\n",
        "df_train.head()"
      ],
      "execution_count": null,
      "outputs": [
        {
          "output_type": "execute_result",
          "data": {
            "text/html": [
              "<div>\n",
              "<style scoped>\n",
              "    .dataframe tbody tr th:only-of-type {\n",
              "        vertical-align: middle;\n",
              "    }\n",
              "\n",
              "    .dataframe tbody tr th {\n",
              "        vertical-align: top;\n",
              "    }\n",
              "\n",
              "    .dataframe thead th {\n",
              "        text-align: right;\n",
              "    }\n",
              "</style>\n",
              "<table border=\"1\" class=\"dataframe\">\n",
              "  <thead>\n",
              "    <tr style=\"text-align: right;\">\n",
              "      <th></th>\n",
              "      <th>0</th>\n",
              "      <th>1</th>\n",
              "      <th>2</th>\n",
              "      <th>3</th>\n",
              "      <th>4</th>\n",
              "      <th>5</th>\n",
              "      <th>6</th>\n",
              "      <th>7</th>\n",
              "      <th>8</th>\n",
              "      <th>9</th>\n",
              "      <th>10</th>\n",
              "      <th>11</th>\n",
              "      <th>12</th>\n",
              "      <th>13</th>\n",
              "      <th>14</th>\n",
              "      <th>15</th>\n",
              "      <th>16</th>\n",
              "      <th>17</th>\n",
              "      <th>18</th>\n",
              "      <th>19</th>\n",
              "      <th>20</th>\n",
              "      <th>21</th>\n",
              "      <th>22</th>\n",
              "      <th>23</th>\n",
              "      <th>24</th>\n",
              "      <th>25</th>\n",
              "      <th>26</th>\n",
              "      <th>27</th>\n",
              "      <th>28</th>\n",
              "      <th>29</th>\n",
              "      <th>30</th>\n",
              "      <th>31</th>\n",
              "      <th>32</th>\n",
              "      <th>33</th>\n",
              "      <th>34</th>\n",
              "      <th>35</th>\n",
              "      <th>36</th>\n",
              "      <th>37</th>\n",
              "      <th>38</th>\n",
              "      <th>39</th>\n",
              "      <th>...</th>\n",
              "      <th>148</th>\n",
              "      <th>149</th>\n",
              "      <th>150</th>\n",
              "      <th>151</th>\n",
              "      <th>152</th>\n",
              "      <th>153</th>\n",
              "      <th>154</th>\n",
              "      <th>155</th>\n",
              "      <th>156</th>\n",
              "      <th>157</th>\n",
              "      <th>158</th>\n",
              "      <th>159</th>\n",
              "      <th>160</th>\n",
              "      <th>161</th>\n",
              "      <th>162</th>\n",
              "      <th>163</th>\n",
              "      <th>164</th>\n",
              "      <th>165</th>\n",
              "      <th>166</th>\n",
              "      <th>167</th>\n",
              "      <th>168</th>\n",
              "      <th>169</th>\n",
              "      <th>170</th>\n",
              "      <th>171</th>\n",
              "      <th>172</th>\n",
              "      <th>173</th>\n",
              "      <th>174</th>\n",
              "      <th>175</th>\n",
              "      <th>176</th>\n",
              "      <th>177</th>\n",
              "      <th>178</th>\n",
              "      <th>179</th>\n",
              "      <th>180</th>\n",
              "      <th>181</th>\n",
              "      <th>182</th>\n",
              "      <th>183</th>\n",
              "      <th>184</th>\n",
              "      <th>185</th>\n",
              "      <th>186</th>\n",
              "      <th>187</th>\n",
              "    </tr>\n",
              "  </thead>\n",
              "  <tbody>\n",
              "    <tr>\n",
              "      <th>0</th>\n",
              "      <td>0.977941</td>\n",
              "      <td>0.926471</td>\n",
              "      <td>0.681373</td>\n",
              "      <td>0.245098</td>\n",
              "      <td>0.154412</td>\n",
              "      <td>0.191176</td>\n",
              "      <td>0.151961</td>\n",
              "      <td>0.085784</td>\n",
              "      <td>0.058824</td>\n",
              "      <td>0.049020</td>\n",
              "      <td>0.044118</td>\n",
              "      <td>0.061275</td>\n",
              "      <td>0.066176</td>\n",
              "      <td>0.061275</td>\n",
              "      <td>0.049020</td>\n",
              "      <td>0.073529</td>\n",
              "      <td>0.061275</td>\n",
              "      <td>0.061275</td>\n",
              "      <td>0.066176</td>\n",
              "      <td>0.068627</td>\n",
              "      <td>0.095588</td>\n",
              "      <td>0.075980</td>\n",
              "      <td>0.093137</td>\n",
              "      <td>0.105392</td>\n",
              "      <td>0.115196</td>\n",
              "      <td>0.102941</td>\n",
              "      <td>0.117647</td>\n",
              "      <td>0.125000</td>\n",
              "      <td>0.142157</td>\n",
              "      <td>0.127451</td>\n",
              "      <td>0.151961</td>\n",
              "      <td>0.144608</td>\n",
              "      <td>0.164216</td>\n",
              "      <td>0.144608</td>\n",
              "      <td>0.159314</td>\n",
              "      <td>0.151961</td>\n",
              "      <td>0.154412</td>\n",
              "      <td>0.142157</td>\n",
              "      <td>0.151961</td>\n",
              "      <td>0.151961</td>\n",
              "      <td>...</td>\n",
              "      <td>0.0</td>\n",
              "      <td>0.0</td>\n",
              "      <td>0.0</td>\n",
              "      <td>0.0</td>\n",
              "      <td>0.0</td>\n",
              "      <td>0.0</td>\n",
              "      <td>0.0</td>\n",
              "      <td>0.0</td>\n",
              "      <td>0.0</td>\n",
              "      <td>0.0</td>\n",
              "      <td>0.0</td>\n",
              "      <td>0.0</td>\n",
              "      <td>0.0</td>\n",
              "      <td>0.0</td>\n",
              "      <td>0.0</td>\n",
              "      <td>0.0</td>\n",
              "      <td>0.0</td>\n",
              "      <td>0.0</td>\n",
              "      <td>0.0</td>\n",
              "      <td>0.0</td>\n",
              "      <td>0.0</td>\n",
              "      <td>0.0</td>\n",
              "      <td>0.0</td>\n",
              "      <td>0.0</td>\n",
              "      <td>0.0</td>\n",
              "      <td>0.0</td>\n",
              "      <td>0.0</td>\n",
              "      <td>0.0</td>\n",
              "      <td>0.0</td>\n",
              "      <td>0.0</td>\n",
              "      <td>0.0</td>\n",
              "      <td>0.0</td>\n",
              "      <td>0.0</td>\n",
              "      <td>0.0</td>\n",
              "      <td>0.0</td>\n",
              "      <td>0.0</td>\n",
              "      <td>0.0</td>\n",
              "      <td>0.0</td>\n",
              "      <td>0.0</td>\n",
              "      <td>0.0</td>\n",
              "    </tr>\n",
              "    <tr>\n",
              "      <th>1</th>\n",
              "      <td>0.960114</td>\n",
              "      <td>0.863248</td>\n",
              "      <td>0.461538</td>\n",
              "      <td>0.196581</td>\n",
              "      <td>0.094017</td>\n",
              "      <td>0.125356</td>\n",
              "      <td>0.099715</td>\n",
              "      <td>0.088319</td>\n",
              "      <td>0.074074</td>\n",
              "      <td>0.082621</td>\n",
              "      <td>0.074074</td>\n",
              "      <td>0.062678</td>\n",
              "      <td>0.065527</td>\n",
              "      <td>0.065527</td>\n",
              "      <td>0.062678</td>\n",
              "      <td>0.076923</td>\n",
              "      <td>0.071225</td>\n",
              "      <td>0.082621</td>\n",
              "      <td>0.091168</td>\n",
              "      <td>0.096866</td>\n",
              "      <td>0.082621</td>\n",
              "      <td>0.082621</td>\n",
              "      <td>0.091168</td>\n",
              "      <td>0.105413</td>\n",
              "      <td>0.122507</td>\n",
              "      <td>0.148148</td>\n",
              "      <td>0.182336</td>\n",
              "      <td>0.193732</td>\n",
              "      <td>0.213675</td>\n",
              "      <td>0.207977</td>\n",
              "      <td>0.222222</td>\n",
              "      <td>0.253561</td>\n",
              "      <td>0.270655</td>\n",
              "      <td>0.287749</td>\n",
              "      <td>0.284900</td>\n",
              "      <td>0.293447</td>\n",
              "      <td>0.256410</td>\n",
              "      <td>0.247863</td>\n",
              "      <td>0.188034</td>\n",
              "      <td>0.145299</td>\n",
              "      <td>...</td>\n",
              "      <td>0.0</td>\n",
              "      <td>0.0</td>\n",
              "      <td>0.0</td>\n",
              "      <td>0.0</td>\n",
              "      <td>0.0</td>\n",
              "      <td>0.0</td>\n",
              "      <td>0.0</td>\n",
              "      <td>0.0</td>\n",
              "      <td>0.0</td>\n",
              "      <td>0.0</td>\n",
              "      <td>0.0</td>\n",
              "      <td>0.0</td>\n",
              "      <td>0.0</td>\n",
              "      <td>0.0</td>\n",
              "      <td>0.0</td>\n",
              "      <td>0.0</td>\n",
              "      <td>0.0</td>\n",
              "      <td>0.0</td>\n",
              "      <td>0.0</td>\n",
              "      <td>0.0</td>\n",
              "      <td>0.0</td>\n",
              "      <td>0.0</td>\n",
              "      <td>0.0</td>\n",
              "      <td>0.0</td>\n",
              "      <td>0.0</td>\n",
              "      <td>0.0</td>\n",
              "      <td>0.0</td>\n",
              "      <td>0.0</td>\n",
              "      <td>0.0</td>\n",
              "      <td>0.0</td>\n",
              "      <td>0.0</td>\n",
              "      <td>0.0</td>\n",
              "      <td>0.0</td>\n",
              "      <td>0.0</td>\n",
              "      <td>0.0</td>\n",
              "      <td>0.0</td>\n",
              "      <td>0.0</td>\n",
              "      <td>0.0</td>\n",
              "      <td>0.0</td>\n",
              "      <td>0.0</td>\n",
              "    </tr>\n",
              "    <tr>\n",
              "      <th>2</th>\n",
              "      <td>1.000000</td>\n",
              "      <td>0.659459</td>\n",
              "      <td>0.186486</td>\n",
              "      <td>0.070270</td>\n",
              "      <td>0.070270</td>\n",
              "      <td>0.059459</td>\n",
              "      <td>0.056757</td>\n",
              "      <td>0.043243</td>\n",
              "      <td>0.054054</td>\n",
              "      <td>0.045946</td>\n",
              "      <td>0.056757</td>\n",
              "      <td>0.043243</td>\n",
              "      <td>0.067568</td>\n",
              "      <td>0.062162</td>\n",
              "      <td>0.078378</td>\n",
              "      <td>0.072973</td>\n",
              "      <td>0.086486</td>\n",
              "      <td>0.081081</td>\n",
              "      <td>0.108108</td>\n",
              "      <td>0.110811</td>\n",
              "      <td>0.135135</td>\n",
              "      <td>0.135135</td>\n",
              "      <td>0.170270</td>\n",
              "      <td>0.183784</td>\n",
              "      <td>0.216216</td>\n",
              "      <td>0.237838</td>\n",
              "      <td>0.270270</td>\n",
              "      <td>0.286486</td>\n",
              "      <td>0.316216</td>\n",
              "      <td>0.318919</td>\n",
              "      <td>0.332432</td>\n",
              "      <td>0.297297</td>\n",
              "      <td>0.267568</td>\n",
              "      <td>0.216216</td>\n",
              "      <td>0.189189</td>\n",
              "      <td>0.132432</td>\n",
              "      <td>0.118919</td>\n",
              "      <td>0.064865</td>\n",
              "      <td>0.064865</td>\n",
              "      <td>0.043243</td>\n",
              "      <td>...</td>\n",
              "      <td>0.0</td>\n",
              "      <td>0.0</td>\n",
              "      <td>0.0</td>\n",
              "      <td>0.0</td>\n",
              "      <td>0.0</td>\n",
              "      <td>0.0</td>\n",
              "      <td>0.0</td>\n",
              "      <td>0.0</td>\n",
              "      <td>0.0</td>\n",
              "      <td>0.0</td>\n",
              "      <td>0.0</td>\n",
              "      <td>0.0</td>\n",
              "      <td>0.0</td>\n",
              "      <td>0.0</td>\n",
              "      <td>0.0</td>\n",
              "      <td>0.0</td>\n",
              "      <td>0.0</td>\n",
              "      <td>0.0</td>\n",
              "      <td>0.0</td>\n",
              "      <td>0.0</td>\n",
              "      <td>0.0</td>\n",
              "      <td>0.0</td>\n",
              "      <td>0.0</td>\n",
              "      <td>0.0</td>\n",
              "      <td>0.0</td>\n",
              "      <td>0.0</td>\n",
              "      <td>0.0</td>\n",
              "      <td>0.0</td>\n",
              "      <td>0.0</td>\n",
              "      <td>0.0</td>\n",
              "      <td>0.0</td>\n",
              "      <td>0.0</td>\n",
              "      <td>0.0</td>\n",
              "      <td>0.0</td>\n",
              "      <td>0.0</td>\n",
              "      <td>0.0</td>\n",
              "      <td>0.0</td>\n",
              "      <td>0.0</td>\n",
              "      <td>0.0</td>\n",
              "      <td>0.0</td>\n",
              "    </tr>\n",
              "    <tr>\n",
              "      <th>3</th>\n",
              "      <td>0.925414</td>\n",
              "      <td>0.665746</td>\n",
              "      <td>0.541436</td>\n",
              "      <td>0.276243</td>\n",
              "      <td>0.196133</td>\n",
              "      <td>0.077348</td>\n",
              "      <td>0.071823</td>\n",
              "      <td>0.060773</td>\n",
              "      <td>0.066298</td>\n",
              "      <td>0.058011</td>\n",
              "      <td>0.063536</td>\n",
              "      <td>0.082873</td>\n",
              "      <td>0.085635</td>\n",
              "      <td>0.093923</td>\n",
              "      <td>0.113260</td>\n",
              "      <td>0.124309</td>\n",
              "      <td>0.140884</td>\n",
              "      <td>0.132597</td>\n",
              "      <td>0.140884</td>\n",
              "      <td>0.091160</td>\n",
              "      <td>0.085635</td>\n",
              "      <td>0.074586</td>\n",
              "      <td>0.071823</td>\n",
              "      <td>0.080110</td>\n",
              "      <td>0.096685</td>\n",
              "      <td>0.118785</td>\n",
              "      <td>0.138122</td>\n",
              "      <td>0.140884</td>\n",
              "      <td>0.138122</td>\n",
              "      <td>0.146409</td>\n",
              "      <td>0.110497</td>\n",
              "      <td>0.102210</td>\n",
              "      <td>0.060773</td>\n",
              "      <td>0.027624</td>\n",
              "      <td>0.038674</td>\n",
              "      <td>0.013812</td>\n",
              "      <td>0.011050</td>\n",
              "      <td>0.013812</td>\n",
              "      <td>0.033149</td>\n",
              "      <td>0.005525</td>\n",
              "      <td>...</td>\n",
              "      <td>0.0</td>\n",
              "      <td>0.0</td>\n",
              "      <td>0.0</td>\n",
              "      <td>0.0</td>\n",
              "      <td>0.0</td>\n",
              "      <td>0.0</td>\n",
              "      <td>0.0</td>\n",
              "      <td>0.0</td>\n",
              "      <td>0.0</td>\n",
              "      <td>0.0</td>\n",
              "      <td>0.0</td>\n",
              "      <td>0.0</td>\n",
              "      <td>0.0</td>\n",
              "      <td>0.0</td>\n",
              "      <td>0.0</td>\n",
              "      <td>0.0</td>\n",
              "      <td>0.0</td>\n",
              "      <td>0.0</td>\n",
              "      <td>0.0</td>\n",
              "      <td>0.0</td>\n",
              "      <td>0.0</td>\n",
              "      <td>0.0</td>\n",
              "      <td>0.0</td>\n",
              "      <td>0.0</td>\n",
              "      <td>0.0</td>\n",
              "      <td>0.0</td>\n",
              "      <td>0.0</td>\n",
              "      <td>0.0</td>\n",
              "      <td>0.0</td>\n",
              "      <td>0.0</td>\n",
              "      <td>0.0</td>\n",
              "      <td>0.0</td>\n",
              "      <td>0.0</td>\n",
              "      <td>0.0</td>\n",
              "      <td>0.0</td>\n",
              "      <td>0.0</td>\n",
              "      <td>0.0</td>\n",
              "      <td>0.0</td>\n",
              "      <td>0.0</td>\n",
              "      <td>0.0</td>\n",
              "    </tr>\n",
              "    <tr>\n",
              "      <th>4</th>\n",
              "      <td>0.967136</td>\n",
              "      <td>1.000000</td>\n",
              "      <td>0.830986</td>\n",
              "      <td>0.586854</td>\n",
              "      <td>0.356808</td>\n",
              "      <td>0.248826</td>\n",
              "      <td>0.145540</td>\n",
              "      <td>0.089202</td>\n",
              "      <td>0.117371</td>\n",
              "      <td>0.150235</td>\n",
              "      <td>0.131455</td>\n",
              "      <td>0.122066</td>\n",
              "      <td>0.140845</td>\n",
              "      <td>0.159624</td>\n",
              "      <td>0.150235</td>\n",
              "      <td>0.145540</td>\n",
              "      <td>0.136150</td>\n",
              "      <td>0.169014</td>\n",
              "      <td>0.178404</td>\n",
              "      <td>0.173709</td>\n",
              "      <td>0.183099</td>\n",
              "      <td>0.201878</td>\n",
              "      <td>0.187793</td>\n",
              "      <td>0.164319</td>\n",
              "      <td>0.187793</td>\n",
              "      <td>0.215962</td>\n",
              "      <td>0.215962</td>\n",
              "      <td>0.201878</td>\n",
              "      <td>0.211268</td>\n",
              "      <td>0.230047</td>\n",
              "      <td>0.215962</td>\n",
              "      <td>0.230047</td>\n",
              "      <td>0.239437</td>\n",
              "      <td>0.267606</td>\n",
              "      <td>0.253521</td>\n",
              "      <td>0.230047</td>\n",
              "      <td>0.220657</td>\n",
              "      <td>0.225352</td>\n",
              "      <td>0.211268</td>\n",
              "      <td>0.173709</td>\n",
              "      <td>...</td>\n",
              "      <td>0.0</td>\n",
              "      <td>0.0</td>\n",
              "      <td>0.0</td>\n",
              "      <td>0.0</td>\n",
              "      <td>0.0</td>\n",
              "      <td>0.0</td>\n",
              "      <td>0.0</td>\n",
              "      <td>0.0</td>\n",
              "      <td>0.0</td>\n",
              "      <td>0.0</td>\n",
              "      <td>0.0</td>\n",
              "      <td>0.0</td>\n",
              "      <td>0.0</td>\n",
              "      <td>0.0</td>\n",
              "      <td>0.0</td>\n",
              "      <td>0.0</td>\n",
              "      <td>0.0</td>\n",
              "      <td>0.0</td>\n",
              "      <td>0.0</td>\n",
              "      <td>0.0</td>\n",
              "      <td>0.0</td>\n",
              "      <td>0.0</td>\n",
              "      <td>0.0</td>\n",
              "      <td>0.0</td>\n",
              "      <td>0.0</td>\n",
              "      <td>0.0</td>\n",
              "      <td>0.0</td>\n",
              "      <td>0.0</td>\n",
              "      <td>0.0</td>\n",
              "      <td>0.0</td>\n",
              "      <td>0.0</td>\n",
              "      <td>0.0</td>\n",
              "      <td>0.0</td>\n",
              "      <td>0.0</td>\n",
              "      <td>0.0</td>\n",
              "      <td>0.0</td>\n",
              "      <td>0.0</td>\n",
              "      <td>0.0</td>\n",
              "      <td>0.0</td>\n",
              "      <td>0.0</td>\n",
              "    </tr>\n",
              "  </tbody>\n",
              "</table>\n",
              "<p>5 rows × 188 columns</p>\n",
              "</div>"
            ],
            "text/plain": [
              "        0         1         2         3         4    ...  183  184  185  186  187\n",
              "0  0.977941  0.926471  0.681373  0.245098  0.154412  ...  0.0  0.0  0.0  0.0  0.0\n",
              "1  0.960114  0.863248  0.461538  0.196581  0.094017  ...  0.0  0.0  0.0  0.0  0.0\n",
              "2  1.000000  0.659459  0.186486  0.070270  0.070270  ...  0.0  0.0  0.0  0.0  0.0\n",
              "3  0.925414  0.665746  0.541436  0.276243  0.196133  ...  0.0  0.0  0.0  0.0  0.0\n",
              "4  0.967136  1.000000  0.830986  0.586854  0.356808  ...  0.0  0.0  0.0  0.0  0.0\n",
              "\n",
              "[5 rows x 188 columns]"
            ]
          },
          "metadata": {
            "tags": []
          },
          "execution_count": 3
        }
      ]
    },
    {
      "cell_type": "markdown",
      "metadata": {
        "id": "XDnHPhlkuEAH"
      },
      "source": [
        "total samples for each class"
      ]
    },
    {
      "cell_type": "code",
      "metadata": {
        "id": "-hxz4Rn83eNd",
        "colab": {
          "base_uri": "https://localhost:8080/",
          "height": 265
        },
        "outputId": "9c9d596f-0ee8-4f6a-db8a-77ee8f66d69a"
      },
      "source": [
        "df_train[187].value_counts().plot.pie()"
      ],
      "execution_count": null,
      "outputs": [
        {
          "output_type": "execute_result",
          "data": {
            "text/plain": [
              "<matplotlib.axes._subplots.AxesSubplot at 0x7f70c2ae2c88>"
            ]
          },
          "metadata": {
            "tags": []
          },
          "execution_count": 5
        },
        {
          "output_type": "display_data",
          "data": {
            "image/png": "[encoded data removed]",
            "text/plain": [
              "<Figure size 432x288 with 1 Axes>"
            ]
          },
          "metadata": {
            "tags": []
          }
        }
      ]
    },
    {
      "cell_type": "markdown",
      "metadata": {
        "id": "bw5C7_Nrt-2e"
      },
      "source": [
        "read testing file"
      ]
    },
    {
      "cell_type": "code",
      "metadata": {
        "id": "7nZE9wFRKS5j",
        "colab": {
          "base_uri": "https://localhost:8080/",
          "height": 121
        },
        "outputId": "4f63f02a-b833-4483-cbe5-938ddb5168e8"
      },
      "source": [
        "df_test=pd.read_csv('/content/drive/My Drive/heartbeat_dataset/mitbih_test.csv', header=None)\n",
        "df_test[187].value_counts()"
      ],
      "execution_count": null,
      "outputs": [
        {
          "output_type": "execute_result",
          "data": {
            "text/plain": [
              "0.0    18118\n",
              "4.0     1608\n",
              "2.0     1448\n",
              "1.0      556\n",
              "3.0      162\n",
              "Name: 187, dtype: int64"
            ]
          },
          "metadata": {
            "tags": []
          },
          "execution_count": 6
        }
      ]
    },
    {
      "cell_type": "code",
      "metadata": {
        "colab": {
          "base_uri": "https://localhost:8080/"
        },
        "id": "AnHi2A_LlUtw",
        "outputId": "74cfd22a-7be8-41ff-f490-ca509fa87a69"
      },
      "source": [
        "df_1=df_train[df_train[187]==1].reset_index()\n",
        "df_1.loc[0,:]"
      ],
      "execution_count": null,
      "outputs": [
        {
          "output_type": "execute_result",
          "data": {
            "text/plain": [
              "index    72471.000000\n",
              "0            1.000000\n",
              "1            0.666667\n",
              "2            0.100457\n",
              "3            0.036530\n",
              "             ...     \n",
              "183          0.000000\n",
              "184          0.000000\n",
              "185          0.000000\n",
              "186          0.000000\n",
              "187          1.000000\n",
              "Name: 0, Length: 189, dtype: float64"
            ]
          },
          "metadata": {
            "tags": []
          },
          "execution_count": 18
        }
      ]
    },
    {
      "cell_type": "markdown",
      "metadata": {
        "id": "9AOQO4uAuO3O"
      },
      "source": [
        "resample training data"
      ]
    },
    {
      "cell_type": "code",
      "metadata": {
        "id": "krJnAaD0IAPg"
      },
      "source": [
        "from sklearn.utils import resample\n",
        "df_1=df_train[df_train[187]==1]\n",
        "df_2=df_train[df_train[187]==2]\n",
        "df_3=df_train[df_train[187]==3]\n",
        "df_4=df_train[df_train[187]==4]\n",
        "df_0=df_train[df_train[187]==0].sample(n=18000,random_state=42, replace=True)\n",
        "\n",
        "df_1_upsample=resample(df_1,replace=True,n_samples=18000,random_state=123)\n",
        "df_2_upsample=resample(df_2,replace=True,n_samples=18000,random_state=124)\n",
        "df_3_upsample=resample(df_3,replace=True,n_samples=18000,random_state=125)\n",
        "df_4_upsample=resample(df_4,replace=True,n_samples=18000,random_state=126)\n",
        "\n",
        "train_df_resample=pd.concat([df_0,df_1_upsample,df_2_upsample,df_3_upsample,df_4_upsample])\n"
      ],
      "execution_count": null,
      "outputs": []
    },
    {
      "cell_type": "markdown",
      "metadata": {
        "id": "VofLukiguVT0"
      },
      "source": [
        "number of samples for each class after resample"
      ]
    },
    {
      "cell_type": "code",
      "metadata": {
        "id": "kQRyXqy1IaXp",
        "colab": {
          "base_uri": "https://localhost:8080/",
          "height": 121
        },
        "outputId": "c2289900-0d4f-4f67-9ce4-2e09093c65f3"
      },
      "source": [
        "train_df_resample[187].value_counts()"
      ],
      "execution_count": null,
      "outputs": [
        {
          "output_type": "execute_result",
          "data": {
            "text/plain": [
              "1.0    18000\n",
              "3.0    18000\n",
              "4.0    18000\n",
              "2.0    18000\n",
              "0.0    18000\n",
              "Name: 187, dtype: int64"
            ]
          },
          "metadata": {
            "tags": []
          },
          "execution_count": 8
        }
      ]
    },
    {
      "cell_type": "markdown",
      "metadata": {
        "id": "B52EbfVyugUX"
      },
      "source": [
        "take a sample from each class for plotting"
      ]
    },
    {
      "cell_type": "code",
      "metadata": {
        "id": "KPKkC9xrMamm"
      },
      "source": [
        "four_rows = train_df_resample.groupby(187).first().reset_index()\n",
        "four_rows.drop(187, axis=1, inplace=True)\n",
        "#four_rows"
      ],
      "execution_count": null,
      "outputs": []
    },
    {
      "cell_type": "code",
      "metadata": {
        "id": "fNBfIVccJYKm",
        "colab": {
          "base_uri": "https://localhost:8080/",
          "height": 335
        },
        "outputId": "0280565e-d38d-4380-e167-b44f2fd5c89b"
      },
      "source": [
        "import matplotlib.pyplot as plt\n",
        "import numpy as np\n",
        "\n",
        "x = np.arange(0, 187)\n",
        "\n",
        "plt.figure(figsize=(20,6))\n",
        "plt.plot(x, four_rows.iloc[0], label=\"Normal beat\")\n",
        "plt.plot(x, four_rows.iloc[1], label=\"Supraventricular premature beat\")\n",
        "plt.plot(x, four_rows.iloc[2], label=\"Premature ventricular contraction\")\n",
        "plt.plot(x, four_rows.iloc[3], label=\"Fusion of ventricular and normal beat\")\n",
        "plt.plot(x, four_rows.iloc[4], label=\"Unclassifiable beat\")\n",
        "plt.legend()\n",
        "plt.show()"
      ],
      "execution_count": null,
      "outputs": [
        {
          "output_type": "display_data",
          "data": {
            "image/png": "[encoded data removed]",
            "text/plain": [
              "<Figure size 1440x432 with 1 Axes>"
            ]
          },
          "metadata": {
            "tags": [],
            "needs_background": "light"
          }
        }
      ]
    },
    {
      "cell_type": "markdown",
      "metadata": {
        "id": "qyKAOfdJuqi7"
      },
      "source": [
        "split class from features for traing data"
      ]
    },
    {
      "cell_type": "code",
      "metadata": {
        "id": "KTyhiySPGNLz"
      },
      "source": [
        "y=train_df_resample[187]\n",
        "X=train_df_resample.drop(187, axis=1).values\n"
      ],
      "execution_count": null,
      "outputs": []
    },
    {
      "cell_type": "markdown",
      "metadata": {
        "id": "aEXJUql8uy_T"
      },
      "source": [
        "reshape X (features) to fit into the model"
      ]
    },
    {
      "cell_type": "code",
      "metadata": {
        "id": "K5VZbMc1iT1E",
        "colab": {
          "base_uri": "https://localhost:8080/",
          "height": 34
        },
        "outputId": "4319add0-fad9-47ff-ad4a-42c323289a3d"
      },
      "source": [
        "X = X.reshape((len(X),187,1))\n",
        "X.shape"
      ],
      "execution_count": null,
      "outputs": [
        {
          "output_type": "execute_result",
          "data": {
            "text/plain": [
              "(90000, 187, 1)"
            ]
          },
          "metadata": {
            "tags": []
          },
          "execution_count": 12
        }
      ]
    },
    {
      "cell_type": "markdown",
      "metadata": {
        "id": "wMT_KSaBu56r"
      },
      "source": [
        "Convert classes to binary class matrix"
      ]
    },
    {
      "cell_type": "code",
      "metadata": {
        "id": "BN7wcPS3Gje1",
        "colab": {
          "base_uri": "https://localhost:8080/",
          "height": 34
        },
        "outputId": "1af86017-2dfa-4d70-8d83-10daf62603eb"
      },
      "source": [
        "from keras.utils import to_categorical\n",
        "\n",
        "y= y.values.reshape((len(y.values),1))\n",
        "y = to_categorical(y)\n",
        "y.shape"
      ],
      "execution_count": null,
      "outputs": [
        {
          "output_type": "execute_result",
          "data": {
            "text/plain": [
              "(90000, 5)"
            ]
          },
          "metadata": {
            "tags": []
          },
          "execution_count": 13
        }
      ]
    },
    {
      "cell_type": "markdown",
      "metadata": {
        "id": "VjO8IT7AvOTj"
      },
      "source": [
        "split and reshape testing data "
      ]
    },
    {
      "cell_type": "code",
      "metadata": {
        "id": "nUMLBbSIVOq0"
      },
      "source": [
        "y_test=df_test[187]\n",
        "X_test=df_test.drop(187, axis=1).values\n",
        "X_test = X_test.reshape((len(X_test),187,1))\n",
        "y_test= y_test.values.reshape((len(y_test.values),1))\n",
        "y_test = to_categorical(y_test)"
      ],
      "execution_count": null,
      "outputs": []
    },
    {
      "cell_type": "markdown",
      "metadata": {
        "id": "23GrPdrdvS3r"
      },
      "source": [
        "Model"
      ]
    },
    {
      "cell_type": "code",
      "metadata": {
        "id": "E_ylIg-vFVzx"
      },
      "source": [
        "from keras.models import Sequential\n",
        "from keras.optimizers import SGD,Adam\n",
        "from keras.layers import LSTM, Dense, Flatten, Activation, MaxPool1D, Dropout\n",
        "from keras.layers.normalization import BatchNormalization\n",
        "from keras.callbacks import EarlyStopping, ModelCheckpoint\n",
        "\n",
        "\n",
        "models = Sequential()\n",
        "models.add(LSTM(units=128, return_sequences=True, input_shape=(187,1), activation='relu'))\n",
        "models.add(BatchNormalization())\n",
        "models.add(MaxPool1D(pool_size=(3), strides=(2), padding=\"same\"))\n",
        "models.add(LSTM(units=64, return_sequences=True, input_shape=(187,1), activation='relu'))\n",
        "models.add(BatchNormalization())\n",
        "models.add(MaxPool1D(pool_size=(2), strides=(2), padding=\"same\"))\n",
        "models.add(Flatten())\n",
        "models.add(Dense(32, activation='relu'))\n",
        "models.add(Dense(5, activation='softmax'))\n",
        "\n",
        "\n",
        "models.compile(loss='categorical_crossentropy',\n",
        "              optimizer='adam',\n",
        "               metrics=['acc'])\n",
        "\n",
        "callbacks = [EarlyStopping(monitor='val_loss', patience=8), ModelCheckpoint(filepath='best_ecg_modelcopy.h5', monitor='val_loss', save_best_only=True)]\n",
        "history=models.fit(X, y, epochs=10, batch_size=32,callbacks=callbacks, validation_data=(X_test,y_test))\n"
      ],
      "execution_count": null,
      "outputs": []
    },
    {
      "cell_type": "markdown",
      "metadata": {
        "id": "WDtH_2pXvZ3P"
      },
      "source": [
        "loss progress"
      ]
    },
    {
      "cell_type": "code",
      "metadata": {
        "id": "OHz9D1DoGCss",
        "colab": {
          "base_uri": "https://localhost:8080/",
          "height": 295
        },
        "outputId": "9c8d5ef4-d6e0-4329-8e01-aeb7401a9fae"
      },
      "source": [
        "from matplotlib import pyplot\n",
        "\n",
        "pyplot.plot(history.history['loss'])\n",
        "pyplot.plot(history.history['val_loss'])\n",
        "pyplot.title('model train vs validation loss')\n",
        "pyplot.ylabel('loss')\n",
        "pyplot.xlabel('epoch')\n",
        "pyplot.legend(['train', 'validation'], loc='upper right')\n",
        "pyplot.show()"
      ],
      "execution_count": null,
      "outputs": [
        {
          "output_type": "display_data",
          "data": {
            "image/png": "[encoded data removed]",
            "text/plain": [
              "<Figure size 432x288 with 1 Axes>"
            ]
          },
          "metadata": {
            "tags": [],
            "needs_background": "light"
          }
        }
      ]
    },
    {
      "cell_type": "code",
      "metadata": {
        "id": "KDz3SjMZoNWO",
        "colab": {
          "base_uri": "https://localhost:8080/",
          "height": 295
        },
        "outputId": "9f19affa-1eca-4f5f-de2d-b76648ab576e"
      },
      "source": [
        "from matplotlib import pyplot\n",
        "\n",
        "pyplot.plot([0.9106, 0.9632,0.9774,0.9829, 0.9872, 0.9896, 0.9911, 0.9922, 0.9934, 0.9936])\n",
        "pyplot.plot([0.8938, 0.9471,0.9174, 0.9541, 0.9640,0.9709,  0.9626,0.9672, 0.9680, 0.9738])\n",
        "pyplot.title('model train vs validation accuracy')\n",
        "pyplot.ylabel('accuracy')\n",
        "pyplot.xlabel('epoch')\n",
        "pyplot.legend(['train', 'validation'], loc='upper right')\n",
        "pyplot.show()"
      ],
      "execution_count": null,
      "outputs": [
        {
          "output_type": "display_data",
          "data": {
            "image/png": "[encoded data removed]",
            "text/plain": [
              "<Figure size 432x288 with 1 Axes>"
            ]
          },
          "metadata": {
            "tags": [],
            "needs_background": "light"
          }
        }
      ]
    },
    {
      "cell_type": "markdown",
      "metadata": {
        "id": "aUg1k2MQvkbR"
      },
      "source": [
        "reload the saved model"
      ]
    },
    {
      "cell_type": "code",
      "metadata": {
        "id": "GPPZ0S4f1vKv",
        "colab": {
          "base_uri": "https://localhost:8080/",
          "height": 52
        },
        "outputId": "de9297ad-55b5-4124-b304-64d1efa68086"
      },
      "source": [
        "from keras.models import load_model\n",
        "\n",
        "loaded_model = load_model('/content/drive/My Drive/heartbeat_dataset/best_ecg_modelcopy.h5')\n",
        "loaded_model.evaluate(X_test,y_test)"
      ],
      "execution_count": null,
      "outputs": [
        {
          "output_type": "stream",
          "text": [
            "685/685 [==============================] - 43s 63ms/step - loss: 0.1430 - acc: 0.9709\n"
          ],
          "name": "stdout"
        },
        {
          "output_type": "execute_result",
          "data": {
            "text/plain": [
              "[0.14299215376377106, 0.9709026217460632]"
            ]
          },
          "metadata": {
            "tags": []
          },
          "execution_count": 15
        }
      ]
    },
    {
      "cell_type": "code",
      "metadata": {
        "id": "_vBfHqVC5S-Y",
        "colab": {
          "base_uri": "https://localhost:8080/",
          "height": 953
        },
        "outputId": "566a0e75-5fc0-4224-b3bd-fc23832fbc65"
      },
      "source": [
        "from keras.utils import plot_model\n",
        "plot_model(loaded_model, to_file='lstm_model.png')"
      ],
      "execution_count": null,
      "outputs": [
        {
          "output_type": "execute_result",
          "data": {
            "image/png": "[encoded data removed]",
            "text/plain": [
              "<IPython.core.display.Image object>"
            ]
          },
          "metadata": {
            "tags": []
          },
          "execution_count": 16
        }
      ]
    },
    {
      "cell_type": "code",
      "metadata": {
        "id": "uX7y9HSM5apo",
        "colab": {
          "base_uri": "https://localhost:8080/",
          "height": 469
        },
        "outputId": "939f0a8c-dca3-4ab1-9a83-b8423b951a19"
      },
      "source": [
        "loaded_model.summary()"
      ],
      "execution_count": null,
      "outputs": [
        {
          "output_type": "stream",
          "text": [
            "Model: \"sequential_2\"\n",
            "_________________________________________________________________\n",
            "Layer (type)                 Output Shape              Param #   \n",
            "=================================================================\n",
            "lstm_3 (LSTM)                (None, 187, 128)          66560     \n",
            "_________________________________________________________________\n",
            "batch_normalization_3 (Batch (None, 187, 128)          512       \n",
            "_________________________________________________________________\n",
            "max_pooling1d_3 (MaxPooling1 (None, 94, 128)           0         \n",
            "_________________________________________________________________\n",
            "lstm_4 (LSTM)                (None, 94, 64)            49408     \n",
            "_________________________________________________________________\n",
            "batch_normalization_4 (Batch (None, 94, 64)            256       \n",
            "_________________________________________________________________\n",
            "max_pooling1d_4 (MaxPooling1 (None, 47, 64)            0         \n",
            "_________________________________________________________________\n",
            "flatten_2 (Flatten)          (None, 3008)              0         \n",
            "_________________________________________________________________\n",
            "dense_3 (Dense)              (None, 32)                96288     \n",
            "_________________________________________________________________\n",
            "dense_4 (Dense)              (None, 5)                 165       \n",
            "=================================================================\n",
            "Total params: 213,189\n",
            "Trainable params: 212,805\n",
            "Non-trainable params: 384\n",
            "_________________________________________________________________\n"
          ],
          "name": "stdout"
        }
      ]
    },
    {
      "cell_type": "markdown",
      "metadata": {
        "id": "Rwy81rF-vxRJ"
      },
      "source": [
        "prediction test"
      ]
    },
    {
      "cell_type": "code",
      "metadata": {
        "id": "2YN9ougB5r2d",
        "colab": {
          "base_uri": "https://localhost:8080/",
          "height": 34
        },
        "outputId": "3565b959-3211-4e77-ec02-3c4ced56bd04"
      },
      "source": [
        "sample = X[80000].reshape(1,187,1)\n",
        "pred = loaded_model.predict(sample)\n",
        "np.argmax(pred,axis=1)"
      ],
      "execution_count": null,
      "outputs": [
        {
          "output_type": "execute_result",
          "data": {
            "text/plain": [
              "array([4])"
            ]
          },
          "metadata": {
            "tags": []
          },
          "execution_count": 21
        }
      ]
    },
    {
      "cell_type": "code",
      "metadata": {
        "id": "6_SdDT7y5vKm"
      },
      "source": [
        "vals = {'N': 0, 'S': 1, 'V': 2, 'F': 3, 'Q': 4}\n",
        "inv_vals = {0:'N', 1:'S', 2:'V', 3:'F',  4:'Q'}"
      ],
      "execution_count": null,
      "outputs": []
    },
    {
      "cell_type": "code",
      "metadata": {
        "id": "aW6IyaK552Mp",
        "colab": {
          "base_uri": "https://localhost:8080/",
          "height": 35
        },
        "outputId": "c34450ca-cbb1-4591-a52d-3b82749744b0"
      },
      "source": [
        "inv_vals[loaded_model.predict(sample).argmax(axis=-1)[0]]"
      ],
      "execution_count": null,
      "outputs": [
        {
          "output_type": "execute_result",
          "data": {
            "application/vnd.google.colaboratory.intrinsic+json": {
              "type": "string"
            },
            "text/plain": [
              "'Q'"
            ]
          },
          "metadata": {
            "tags": []
          },
          "execution_count": 23
        }
      ]
    },
    {
      "cell_type": "markdown",
      "metadata": {
        "id": "Jj4D_oaav9bg"
      },
      "source": [
        "Classification report"
      ]
    },
    {
      "cell_type": "code",
      "metadata": {
        "id": "ggvm0vlZifNt"
      },
      "source": [
        "predz = loaded_model.predict(X_test).argmax(axis=-1)"
      ],
      "execution_count": null,
      "outputs": []
    },
    {
      "cell_type": "code",
      "metadata": {
        "id": "FdLpOl70h8eS",
        "colab": {
          "base_uri": "https://localhost:8080/",
          "height": 225
        },
        "outputId": "bac960ef-082d-4dc3-894e-2fd5ee7eaa42"
      },
      "source": [
        "from sklearn.metrics import classification_report\n",
        "print(classification_report(df_test[187].values,predz) )"
      ],
      "execution_count": null,
      "outputs": [
        {
          "output_type": "stream",
          "text": [
            "              precision    recall  f1-score   support\n",
            "\n",
            "         0.0       0.99      0.98      0.98     18118\n",
            "         1.0       0.61      0.84      0.70       556\n",
            "         2.0       0.94      0.95      0.94      1448\n",
            "         3.0       0.61      0.88      0.72       162\n",
            "         4.0       0.99      0.99      0.99      1608\n",
            "\n",
            "    accuracy                           0.97     21892\n",
            "   macro avg       0.83      0.93      0.87     21892\n",
            "weighted avg       0.98      0.97      0.97     21892\n",
            "\n"
          ],
          "name": "stdout"
        }
      ]
    },
    {
      "cell_type": "code",
      "metadata": {
        "id": "l_RN4O3VYajI",
        "colab": {
          "base_uri": "https://localhost:8080/",
          "height": 279
        },
        "outputId": "9434e442-4eeb-484a-9f4b-3e7575ddbe52"
      },
      "source": [
        "import numpy as np\n",
        "import matplotlib.pyplot as plt\n",
        "from sklearn.metrics import roc_curve, auc\n",
        "from sklearn.preprocessing import label_binarize\n",
        "\n",
        "n_classes=5\n",
        "proba_pred = loaded_model.predict(X_test)\n",
        "\n",
        "# Compute ROC curve and ROC area for each class\n",
        "fpr = dict()\n",
        "tpr = dict()\n",
        "roc_auc = dict()\n",
        "yt = y_test\n",
        "\n",
        "\n",
        "\n",
        "for i in range(n_classes):\n",
        "    fpr[i], tpr[i], _ = roc_curve(yt[:, i], proba_pred[:, i])\n",
        "    roc_auc[i] = auc(fpr[i], tpr[i])\n",
        "\n",
        "# Compute micro-average ROC curve and ROC area\n",
        "fpr[\"micro\"], tpr[\"micro\"], _ = roc_curve(yt.ravel(), proba_pred.ravel())\n",
        "roc_auc[\"micro\"] = auc(fpr[\"micro\"], tpr[\"micro\"])\n",
        "\n",
        "\n",
        "# Plot ROC curve\n",
        "plt.figure()\n",
        "plt.plot(fpr[\"micro\"], tpr[\"micro\"],\n",
        "         label='micro-avg ROC (area = {0:0.3f})'\n",
        "               ''.format(roc_auc[\"micro\"]))\n",
        "for i in range(n_classes):\n",
        "    plt.plot(fpr[i], tpr[i], label='ROC of class {0} (area = {1:0.3f})'\n",
        "                                   ''.format(inv_vals[i], roc_auc[i]))\n",
        "\n",
        "plt.plot([0, 1], [0, 1], 'k--')\n",
        "plt.xlim([0.0, 1.0])\n",
        "plt.ylim([0.0, 1.05])\n",
        "plt.xlabel('False Positive Rate')\n",
        "plt.ylabel('True Positive Rate')\n",
        "plt.legend(loc=\"lower right\")\n",
        "plt.savefig('LSTM_roc.pdf', format='pdf')\n"
      ],
      "execution_count": null,
      "outputs": [
        {
          "output_type": "display_data",
          "data": {
            "image/png": "[encoded data removed]",
            "text/plain": [
              "<Figure size 432x288 with 1 Axes>"
            ]
          },
          "metadata": {
            "tags": [],
            "needs_background": "light"
          }
        }
      ]
    },
    {
      "cell_type": "code",
      "metadata": {
        "id": "0chQ_tB4YfJT",
        "colab": {
          "base_uri": "https://localhost:8080/",
          "height": 104
        },
        "outputId": "1a5c60ed-e07e-4d01-f0f3-8bd2394ad6b6"
      },
      "source": [
        "from sklearn.metrics import confusion_matrix\n",
        "confusion_matrix(df_test[187].values,predz)"
      ],
      "execution_count": null,
      "outputs": [
        {
          "output_type": "execute_result",
          "data": {
            "text/plain": [
              "array([[17682,   291,    71,    59,    15],\n",
              "       [   73,   467,     8,     7,     1],\n",
              "       [   37,    10,  1375,    24,     2],\n",
              "       [   11,     1,     7,   143,     0],\n",
              "       [   14,     1,     5,     0,  1588]])"
            ]
          },
          "metadata": {
            "tags": []
          },
          "execution_count": 20
        }
      ]
    }
  ]
}