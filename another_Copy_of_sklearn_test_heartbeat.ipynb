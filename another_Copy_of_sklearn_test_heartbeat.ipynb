{
  "nbformat": 4,
  "nbformat_minor": 0,
  "metadata": {
    "colab": {
      "name": "3 sklearn models test_heartbeat.ipynb",
      "provenance": [],
      "collapsed_sections": []
    },
    "kernelspec": {
      "name": "python3",
      "display_name": "Python 3"
    }
  },
  "cells": [
    {
      "cell_type": "markdown",
      "metadata": {
        "id": "AI4E59bPCh5H"
      },
      "source": [
        "Classes: ['N': 0, 'S': 1, 'V': 2, 'F': 3, 'Q': 4]"
      ]
    },
    {
      "cell_type": "code",
      "metadata": {
        "id": "ilC1c-LbA4PO"
      },
      "source": [
        "import pandas as pd"
      ],
      "execution_count": null,
      "outputs": []
    },
    {
      "cell_type": "markdown",
      "metadata": {
        "id": "U3ccT-Kl0gS1"
      },
      "source": [
        "read traing data file"
      ]
    },
    {
      "cell_type": "code",
      "metadata": {
        "id": "Q2OZs60DBsb2",
        "colab": {
          "base_uri": "https://localhost:8080/",
          "height": 256
        },
        "outputId": "4b78ec02-13ee-47ba-e4f6-8ca98ffcebf3"
      },
      "source": [
        "df_train = pd.read_csv('/content/drive/My Drive/heartbeat_dataset/mitbih_train.csv',header=None)\n",
        "df_train.head()"
      ],
      "execution_count": null,
      "outputs": [
        {
          "output_type": "execute_result",
          "data": {
            "text/html": [
              "<div>\n",
              "<style scoped>\n",
              "    .dataframe tbody tr th:only-of-type {\n",
              "        vertical-align: middle;\n",
              "    }\n",
              "\n",
              "    .dataframe tbody tr th {\n",
              "        vertical-align: top;\n",
              "    }\n",
              "\n",
              "    .dataframe thead th {\n",
              "        text-align: right;\n",
              "    }\n",
              "</style>\n",
              "<table border=\"1\" class=\"dataframe\">\n",
              "  <thead>\n",
              "    <tr style=\"text-align: right;\">\n",
              "      <th></th>\n",
              "      <th>0</th>\n",
              "      <th>1</th>\n",
              "      <th>2</th>\n",
              "      <th>3</th>\n",
              "      <th>4</th>\n",
              "      <th>5</th>\n",
              "      <th>6</th>\n",
              "      <th>7</th>\n",
              "      <th>8</th>\n",
              "      <th>9</th>\n",
              "      <th>10</th>\n",
              "      <th>11</th>\n",
              "      <th>12</th>\n",
              "      <th>13</th>\n",
              "      <th>14</th>\n",
              "      <th>15</th>\n",
              "      <th>16</th>\n",
              "      <th>17</th>\n",
              "      <th>18</th>\n",
              "      <th>19</th>\n",
              "      <th>20</th>\n",
              "      <th>21</th>\n",
              "      <th>22</th>\n",
              "      <th>23</th>\n",
              "      <th>24</th>\n",
              "      <th>25</th>\n",
              "      <th>26</th>\n",
              "      <th>27</th>\n",
              "      <th>28</th>\n",
              "      <th>29</th>\n",
              "      <th>30</th>\n",
              "      <th>31</th>\n",
              "      <th>32</th>\n",
              "      <th>33</th>\n",
              "      <th>34</th>\n",
              "      <th>35</th>\n",
              "      <th>36</th>\n",
              "      <th>37</th>\n",
              "      <th>38</th>\n",
              "      <th>39</th>\n",
              "      <th>...</th>\n",
              "      <th>148</th>\n",
              "      <th>149</th>\n",
              "      <th>150</th>\n",
              "      <th>151</th>\n",
              "      <th>152</th>\n",
              "      <th>153</th>\n",
              "      <th>154</th>\n",
              "      <th>155</th>\n",
              "      <th>156</th>\n",
              "      <th>157</th>\n",
              "      <th>158</th>\n",
              "      <th>159</th>\n",
              "      <th>160</th>\n",
              "      <th>161</th>\n",
              "      <th>162</th>\n",
              "      <th>163</th>\n",
              "      <th>164</th>\n",
              "      <th>165</th>\n",
              "      <th>166</th>\n",
              "      <th>167</th>\n",
              "      <th>168</th>\n",
              "      <th>169</th>\n",
              "      <th>170</th>\n",
              "      <th>171</th>\n",
              "      <th>172</th>\n",
              "      <th>173</th>\n",
              "      <th>174</th>\n",
              "      <th>175</th>\n",
              "      <th>176</th>\n",
              "      <th>177</th>\n",
              "      <th>178</th>\n",
              "      <th>179</th>\n",
              "      <th>180</th>\n",
              "      <th>181</th>\n",
              "      <th>182</th>\n",
              "      <th>183</th>\n",
              "      <th>184</th>\n",
              "      <th>185</th>\n",
              "      <th>186</th>\n",
              "      <th>187</th>\n",
              "    </tr>\n",
              "  </thead>\n",
              "  <tbody>\n",
              "    <tr>\n",
              "      <th>0</th>\n",
              "      <td>0.977941</td>\n",
              "      <td>0.926471</td>\n",
              "      <td>0.681373</td>\n",
              "      <td>0.245098</td>\n",
              "      <td>0.154412</td>\n",
              "      <td>0.191176</td>\n",
              "      <td>0.151961</td>\n",
              "      <td>0.085784</td>\n",
              "      <td>0.058824</td>\n",
              "      <td>0.049020</td>\n",
              "      <td>0.044118</td>\n",
              "      <td>0.061275</td>\n",
              "      <td>0.066176</td>\n",
              "      <td>0.061275</td>\n",
              "      <td>0.049020</td>\n",
              "      <td>0.073529</td>\n",
              "      <td>0.061275</td>\n",
              "      <td>0.061275</td>\n",
              "      <td>0.066176</td>\n",
              "      <td>0.068627</td>\n",
              "      <td>0.095588</td>\n",
              "      <td>0.075980</td>\n",
              "      <td>0.093137</td>\n",
              "      <td>0.105392</td>\n",
              "      <td>0.115196</td>\n",
              "      <td>0.102941</td>\n",
              "      <td>0.117647</td>\n",
              "      <td>0.125000</td>\n",
              "      <td>0.142157</td>\n",
              "      <td>0.127451</td>\n",
              "      <td>0.151961</td>\n",
              "      <td>0.144608</td>\n",
              "      <td>0.164216</td>\n",
              "      <td>0.144608</td>\n",
              "      <td>0.159314</td>\n",
              "      <td>0.151961</td>\n",
              "      <td>0.154412</td>\n",
              "      <td>0.142157</td>\n",
              "      <td>0.151961</td>\n",
              "      <td>0.151961</td>\n",
              "      <td>...</td>\n",
              "      <td>0.0</td>\n",
              "      <td>0.0</td>\n",
              "      <td>0.0</td>\n",
              "      <td>0.0</td>\n",
              "      <td>0.0</td>\n",
              "      <td>0.0</td>\n",
              "      <td>0.0</td>\n",
              "      <td>0.0</td>\n",
              "      <td>0.0</td>\n",
              "      <td>0.0</td>\n",
              "      <td>0.0</td>\n",
              "      <td>0.0</td>\n",
              "      <td>0.0</td>\n",
              "      <td>0.0</td>\n",
              "      <td>0.0</td>\n",
              "      <td>0.0</td>\n",
              "      <td>0.0</td>\n",
              "      <td>0.0</td>\n",
              "      <td>0.0</td>\n",
              "      <td>0.0</td>\n",
              "      <td>0.0</td>\n",
              "      <td>0.0</td>\n",
              "      <td>0.0</td>\n",
              "      <td>0.0</td>\n",
              "      <td>0.0</td>\n",
              "      <td>0.0</td>\n",
              "      <td>0.0</td>\n",
              "      <td>0.0</td>\n",
              "      <td>0.0</td>\n",
              "      <td>0.0</td>\n",
              "      <td>0.0</td>\n",
              "      <td>0.0</td>\n",
              "      <td>0.0</td>\n",
              "      <td>0.0</td>\n",
              "      <td>0.0</td>\n",
              "      <td>0.0</td>\n",
              "      <td>0.0</td>\n",
              "      <td>0.0</td>\n",
              "      <td>0.0</td>\n",
              "      <td>0.0</td>\n",
              "    </tr>\n",
              "    <tr>\n",
              "      <th>1</th>\n",
              "      <td>0.960114</td>\n",
              "      <td>0.863248</td>\n",
              "      <td>0.461538</td>\n",
              "      <td>0.196581</td>\n",
              "      <td>0.094017</td>\n",
              "      <td>0.125356</td>\n",
              "      <td>0.099715</td>\n",
              "      <td>0.088319</td>\n",
              "      <td>0.074074</td>\n",
              "      <td>0.082621</td>\n",
              "      <td>0.074074</td>\n",
              "      <td>0.062678</td>\n",
              "      <td>0.065527</td>\n",
              "      <td>0.065527</td>\n",
              "      <td>0.062678</td>\n",
              "      <td>0.076923</td>\n",
              "      <td>0.071225</td>\n",
              "      <td>0.082621</td>\n",
              "      <td>0.091168</td>\n",
              "      <td>0.096866</td>\n",
              "      <td>0.082621</td>\n",
              "      <td>0.082621</td>\n",
              "      <td>0.091168</td>\n",
              "      <td>0.105413</td>\n",
              "      <td>0.122507</td>\n",
              "      <td>0.148148</td>\n",
              "      <td>0.182336</td>\n",
              "      <td>0.193732</td>\n",
              "      <td>0.213675</td>\n",
              "      <td>0.207977</td>\n",
              "      <td>0.222222</td>\n",
              "      <td>0.253561</td>\n",
              "      <td>0.270655</td>\n",
              "      <td>0.287749</td>\n",
              "      <td>0.284900</td>\n",
              "      <td>0.293447</td>\n",
              "      <td>0.256410</td>\n",
              "      <td>0.247863</td>\n",
              "      <td>0.188034</td>\n",
              "      <td>0.145299</td>\n",
              "      <td>...</td>\n",
              "      <td>0.0</td>\n",
              "      <td>0.0</td>\n",
              "      <td>0.0</td>\n",
              "      <td>0.0</td>\n",
              "      <td>0.0</td>\n",
              "      <td>0.0</td>\n",
              "      <td>0.0</td>\n",
              "      <td>0.0</td>\n",
              "      <td>0.0</td>\n",
              "      <td>0.0</td>\n",
              "      <td>0.0</td>\n",
              "      <td>0.0</td>\n",
              "      <td>0.0</td>\n",
              "      <td>0.0</td>\n",
              "      <td>0.0</td>\n",
              "      <td>0.0</td>\n",
              "      <td>0.0</td>\n",
              "      <td>0.0</td>\n",
              "      <td>0.0</td>\n",
              "      <td>0.0</td>\n",
              "      <td>0.0</td>\n",
              "      <td>0.0</td>\n",
              "      <td>0.0</td>\n",
              "      <td>0.0</td>\n",
              "      <td>0.0</td>\n",
              "      <td>0.0</td>\n",
              "      <td>0.0</td>\n",
              "      <td>0.0</td>\n",
              "      <td>0.0</td>\n",
              "      <td>0.0</td>\n",
              "      <td>0.0</td>\n",
              "      <td>0.0</td>\n",
              "      <td>0.0</td>\n",
              "      <td>0.0</td>\n",
              "      <td>0.0</td>\n",
              "      <td>0.0</td>\n",
              "      <td>0.0</td>\n",
              "      <td>0.0</td>\n",
              "      <td>0.0</td>\n",
              "      <td>0.0</td>\n",
              "    </tr>\n",
              "    <tr>\n",
              "      <th>2</th>\n",
              "      <td>1.000000</td>\n",
              "      <td>0.659459</td>\n",
              "      <td>0.186486</td>\n",
              "      <td>0.070270</td>\n",
              "      <td>0.070270</td>\n",
              "      <td>0.059459</td>\n",
              "      <td>0.056757</td>\n",
              "      <td>0.043243</td>\n",
              "      <td>0.054054</td>\n",
              "      <td>0.045946</td>\n",
              "      <td>0.056757</td>\n",
              "      <td>0.043243</td>\n",
              "      <td>0.067568</td>\n",
              "      <td>0.062162</td>\n",
              "      <td>0.078378</td>\n",
              "      <td>0.072973</td>\n",
              "      <td>0.086486</td>\n",
              "      <td>0.081081</td>\n",
              "      <td>0.108108</td>\n",
              "      <td>0.110811</td>\n",
              "      <td>0.135135</td>\n",
              "      <td>0.135135</td>\n",
              "      <td>0.170270</td>\n",
              "      <td>0.183784</td>\n",
              "      <td>0.216216</td>\n",
              "      <td>0.237838</td>\n",
              "      <td>0.270270</td>\n",
              "      <td>0.286486</td>\n",
              "      <td>0.316216</td>\n",
              "      <td>0.318919</td>\n",
              "      <td>0.332432</td>\n",
              "      <td>0.297297</td>\n",
              "      <td>0.267568</td>\n",
              "      <td>0.216216</td>\n",
              "      <td>0.189189</td>\n",
              "      <td>0.132432</td>\n",
              "      <td>0.118919</td>\n",
              "      <td>0.064865</td>\n",
              "      <td>0.064865</td>\n",
              "      <td>0.043243</td>\n",
              "      <td>...</td>\n",
              "      <td>0.0</td>\n",
              "      <td>0.0</td>\n",
              "      <td>0.0</td>\n",
              "      <td>0.0</td>\n",
              "      <td>0.0</td>\n",
              "      <td>0.0</td>\n",
              "      <td>0.0</td>\n",
              "      <td>0.0</td>\n",
              "      <td>0.0</td>\n",
              "      <td>0.0</td>\n",
              "      <td>0.0</td>\n",
              "      <td>0.0</td>\n",
              "      <td>0.0</td>\n",
              "      <td>0.0</td>\n",
              "      <td>0.0</td>\n",
              "      <td>0.0</td>\n",
              "      <td>0.0</td>\n",
              "      <td>0.0</td>\n",
              "      <td>0.0</td>\n",
              "      <td>0.0</td>\n",
              "      <td>0.0</td>\n",
              "      <td>0.0</td>\n",
              "      <td>0.0</td>\n",
              "      <td>0.0</td>\n",
              "      <td>0.0</td>\n",
              "      <td>0.0</td>\n",
              "      <td>0.0</td>\n",
              "      <td>0.0</td>\n",
              "      <td>0.0</td>\n",
              "      <td>0.0</td>\n",
              "      <td>0.0</td>\n",
              "      <td>0.0</td>\n",
              "      <td>0.0</td>\n",
              "      <td>0.0</td>\n",
              "      <td>0.0</td>\n",
              "      <td>0.0</td>\n",
              "      <td>0.0</td>\n",
              "      <td>0.0</td>\n",
              "      <td>0.0</td>\n",
              "      <td>0.0</td>\n",
              "    </tr>\n",
              "    <tr>\n",
              "      <th>3</th>\n",
              "      <td>0.925414</td>\n",
              "      <td>0.665746</td>\n",
              "      <td>0.541436</td>\n",
              "      <td>0.276243</td>\n",
              "      <td>0.196133</td>\n",
              "      <td>0.077348</td>\n",
              "      <td>0.071823</td>\n",
              "      <td>0.060773</td>\n",
              "      <td>0.066298</td>\n",
              "      <td>0.058011</td>\n",
              "      <td>0.063536</td>\n",
              "      <td>0.082873</td>\n",
              "      <td>0.085635</td>\n",
              "      <td>0.093923</td>\n",
              "      <td>0.113260</td>\n",
              "      <td>0.124309</td>\n",
              "      <td>0.140884</td>\n",
              "      <td>0.132597</td>\n",
              "      <td>0.140884</td>\n",
              "      <td>0.091160</td>\n",
              "      <td>0.085635</td>\n",
              "      <td>0.074586</td>\n",
              "      <td>0.071823</td>\n",
              "      <td>0.080110</td>\n",
              "      <td>0.096685</td>\n",
              "      <td>0.118785</td>\n",
              "      <td>0.138122</td>\n",
              "      <td>0.140884</td>\n",
              "      <td>0.138122</td>\n",
              "      <td>0.146409</td>\n",
              "      <td>0.110497</td>\n",
              "      <td>0.102210</td>\n",
              "      <td>0.060773</td>\n",
              "      <td>0.027624</td>\n",
              "      <td>0.038674</td>\n",
              "      <td>0.013812</td>\n",
              "      <td>0.011050</td>\n",
              "      <td>0.013812</td>\n",
              "      <td>0.033149</td>\n",
              "      <td>0.005525</td>\n",
              "      <td>...</td>\n",
              "      <td>0.0</td>\n",
              "      <td>0.0</td>\n",
              "      <td>0.0</td>\n",
              "      <td>0.0</td>\n",
              "      <td>0.0</td>\n",
              "      <td>0.0</td>\n",
              "      <td>0.0</td>\n",
              "      <td>0.0</td>\n",
              "      <td>0.0</td>\n",
              "      <td>0.0</td>\n",
              "      <td>0.0</td>\n",
              "      <td>0.0</td>\n",
              "      <td>0.0</td>\n",
              "      <td>0.0</td>\n",
              "      <td>0.0</td>\n",
              "      <td>0.0</td>\n",
              "      <td>0.0</td>\n",
              "      <td>0.0</td>\n",
              "      <td>0.0</td>\n",
              "      <td>0.0</td>\n",
              "      <td>0.0</td>\n",
              "      <td>0.0</td>\n",
              "      <td>0.0</td>\n",
              "      <td>0.0</td>\n",
              "      <td>0.0</td>\n",
              "      <td>0.0</td>\n",
              "      <td>0.0</td>\n",
              "      <td>0.0</td>\n",
              "      <td>0.0</td>\n",
              "      <td>0.0</td>\n",
              "      <td>0.0</td>\n",
              "      <td>0.0</td>\n",
              "      <td>0.0</td>\n",
              "      <td>0.0</td>\n",
              "      <td>0.0</td>\n",
              "      <td>0.0</td>\n",
              "      <td>0.0</td>\n",
              "      <td>0.0</td>\n",
              "      <td>0.0</td>\n",
              "      <td>0.0</td>\n",
              "    </tr>\n",
              "    <tr>\n",
              "      <th>4</th>\n",
              "      <td>0.967136</td>\n",
              "      <td>1.000000</td>\n",
              "      <td>0.830986</td>\n",
              "      <td>0.586854</td>\n",
              "      <td>0.356808</td>\n",
              "      <td>0.248826</td>\n",
              "      <td>0.145540</td>\n",
              "      <td>0.089202</td>\n",
              "      <td>0.117371</td>\n",
              "      <td>0.150235</td>\n",
              "      <td>0.131455</td>\n",
              "      <td>0.122066</td>\n",
              "      <td>0.140845</td>\n",
              "      <td>0.159624</td>\n",
              "      <td>0.150235</td>\n",
              "      <td>0.145540</td>\n",
              "      <td>0.136150</td>\n",
              "      <td>0.169014</td>\n",
              "      <td>0.178404</td>\n",
              "      <td>0.173709</td>\n",
              "      <td>0.183099</td>\n",
              "      <td>0.201878</td>\n",
              "      <td>0.187793</td>\n",
              "      <td>0.164319</td>\n",
              "      <td>0.187793</td>\n",
              "      <td>0.215962</td>\n",
              "      <td>0.215962</td>\n",
              "      <td>0.201878</td>\n",
              "      <td>0.211268</td>\n",
              "      <td>0.230047</td>\n",
              "      <td>0.215962</td>\n",
              "      <td>0.230047</td>\n",
              "      <td>0.239437</td>\n",
              "      <td>0.267606</td>\n",
              "      <td>0.253521</td>\n",
              "      <td>0.230047</td>\n",
              "      <td>0.220657</td>\n",
              "      <td>0.225352</td>\n",
              "      <td>0.211268</td>\n",
              "      <td>0.173709</td>\n",
              "      <td>...</td>\n",
              "      <td>0.0</td>\n",
              "      <td>0.0</td>\n",
              "      <td>0.0</td>\n",
              "      <td>0.0</td>\n",
              "      <td>0.0</td>\n",
              "      <td>0.0</td>\n",
              "      <td>0.0</td>\n",
              "      <td>0.0</td>\n",
              "      <td>0.0</td>\n",
              "      <td>0.0</td>\n",
              "      <td>0.0</td>\n",
              "      <td>0.0</td>\n",
              "      <td>0.0</td>\n",
              "      <td>0.0</td>\n",
              "      <td>0.0</td>\n",
              "      <td>0.0</td>\n",
              "      <td>0.0</td>\n",
              "      <td>0.0</td>\n",
              "      <td>0.0</td>\n",
              "      <td>0.0</td>\n",
              "      <td>0.0</td>\n",
              "      <td>0.0</td>\n",
              "      <td>0.0</td>\n",
              "      <td>0.0</td>\n",
              "      <td>0.0</td>\n",
              "      <td>0.0</td>\n",
              "      <td>0.0</td>\n",
              "      <td>0.0</td>\n",
              "      <td>0.0</td>\n",
              "      <td>0.0</td>\n",
              "      <td>0.0</td>\n",
              "      <td>0.0</td>\n",
              "      <td>0.0</td>\n",
              "      <td>0.0</td>\n",
              "      <td>0.0</td>\n",
              "      <td>0.0</td>\n",
              "      <td>0.0</td>\n",
              "      <td>0.0</td>\n",
              "      <td>0.0</td>\n",
              "      <td>0.0</td>\n",
              "    </tr>\n",
              "  </tbody>\n",
              "</table>\n",
              "<p>5 rows × 188 columns</p>\n",
              "</div>"
            ],
            "text/plain": [
              "        0         1         2         3         4    ...  183  184  185  186  187\n",
              "0  0.977941  0.926471  0.681373  0.245098  0.154412  ...  0.0  0.0  0.0  0.0  0.0\n",
              "1  0.960114  0.863248  0.461538  0.196581  0.094017  ...  0.0  0.0  0.0  0.0  0.0\n",
              "2  1.000000  0.659459  0.186486  0.070270  0.070270  ...  0.0  0.0  0.0  0.0  0.0\n",
              "3  0.925414  0.665746  0.541436  0.276243  0.196133  ...  0.0  0.0  0.0  0.0  0.0\n",
              "4  0.967136  1.000000  0.830986  0.586854  0.356808  ...  0.0  0.0  0.0  0.0  0.0\n",
              "\n",
              "[5 rows x 188 columns]"
            ]
          },
          "metadata": {
            "tags": []
          },
          "execution_count": 2
        }
      ]
    },
    {
      "cell_type": "code",
      "metadata": {
        "id": "W_kW8yi-2hBt",
        "colab": {
          "base_uri": "https://localhost:8080/",
          "height": 121
        },
        "outputId": "8dfb5a99-efc5-47a7-d1f8-96309ded6a97"
      },
      "source": [
        "df_train[187].value_counts()"
      ],
      "execution_count": null,
      "outputs": [
        {
          "output_type": "execute_result",
          "data": {
            "text/plain": [
              "0.0    72471\n",
              "4.0     6431\n",
              "2.0     5788\n",
              "1.0     2223\n",
              "3.0      641\n",
              "Name: 187, dtype: int64"
            ]
          },
          "metadata": {
            "tags": []
          },
          "execution_count": 3
        }
      ]
    },
    {
      "cell_type": "markdown",
      "metadata": {
        "id": "0T88yX5v0jq3"
      },
      "source": [
        "read testing data file"
      ]
    },
    {
      "cell_type": "code",
      "metadata": {
        "id": "7nZE9wFRKS5j",
        "colab": {
          "base_uri": "https://localhost:8080/",
          "height": 121
        },
        "outputId": "397fdada-75b5-4260-8abd-6b5b171da653"
      },
      "source": [
        "df_test=pd.read_csv('/content/drive/My Drive/heartbeat_dataset/mitbih_test.csv', header=None)\n",
        "df_test[187].value_counts()"
      ],
      "execution_count": null,
      "outputs": [
        {
          "output_type": "execute_result",
          "data": {
            "text/plain": [
              "0.0    18118\n",
              "4.0     1608\n",
              "2.0     1448\n",
              "1.0      556\n",
              "3.0      162\n",
              "Name: 187, dtype: int64"
            ]
          },
          "metadata": {
            "tags": []
          },
          "execution_count": 4
        }
      ]
    },
    {
      "cell_type": "markdown",
      "metadata": {
        "id": "FvgqEbiQ0nSR"
      },
      "source": [
        "resample training data"
      ]
    },
    {
      "cell_type": "code",
      "metadata": {
        "id": "krJnAaD0IAPg"
      },
      "source": [
        "from sklearn.utils import resample\n",
        "df_1=df_train[df_train[187]==1]\n",
        "df_2=df_train[df_train[187]==2]\n",
        "df_3=df_train[df_train[187]==3]\n",
        "df_4=df_train[df_train[187]==4]\n",
        "df_0=df_train[df_train[187]==0].sample(n=18000,random_state=42, replace=True)\n",
        "\n",
        "df_1_upsample=resample(df_1,replace=True,n_samples=18000,random_state=123)\n",
        "df_2_upsample=resample(df_2,replace=True,n_samples=18000,random_state=124)\n",
        "df_3_upsample=resample(df_3,replace=True,n_samples=18000,random_state=125)\n",
        "df_4_upsample=resample(df_4,replace=True,n_samples=18000,random_state=126)\n",
        "\n",
        "train_df_resample=pd.concat([df_0,df_1_upsample,df_2_upsample,df_3_upsample,df_4_upsample])\n"
      ],
      "execution_count": null,
      "outputs": []
    },
    {
      "cell_type": "code",
      "metadata": {
        "id": "kQRyXqy1IaXp",
        "colab": {
          "base_uri": "https://localhost:8080/",
          "height": 121
        },
        "outputId": "16c53436-3b46-4633-fd9e-18bfadb81d90"
      },
      "source": [
        "train_df_resample[187].value_counts()"
      ],
      "execution_count": null,
      "outputs": [
        {
          "output_type": "execute_result",
          "data": {
            "text/plain": [
              "1.0    18000\n",
              "3.0    18000\n",
              "4.0    18000\n",
              "2.0    18000\n",
              "0.0    18000\n",
              "Name: 187, dtype: int64"
            ]
          },
          "metadata": {
            "tags": []
          },
          "execution_count": 6
        }
      ]
    },
    {
      "cell_type": "markdown",
      "metadata": {
        "id": "ElPAPYl50uYM"
      },
      "source": [
        "spilt training data for x and y"
      ]
    },
    {
      "cell_type": "code",
      "metadata": {
        "id": "KTyhiySPGNLz",
        "colab": {
          "base_uri": "https://localhost:8080/",
          "height": 34
        },
        "outputId": "9cc0b8db-598e-4e1c-c1fa-84304896a517"
      },
      "source": [
        "y=train_df_resample[187]\n",
        "X=train_df_resample.drop(187, axis=1).values\n",
        "X.shape"
      ],
      "execution_count": null,
      "outputs": [
        {
          "output_type": "execute_result",
          "data": {
            "text/plain": [
              "(90000, 187)"
            ]
          },
          "metadata": {
            "tags": []
          },
          "execution_count": 7
        }
      ]
    },
    {
      "cell_type": "markdown",
      "metadata": {
        "id": "4Zw74SrM0zdf"
      },
      "source": [
        "split testing data for x and y"
      ]
    },
    {
      "cell_type": "code",
      "metadata": {
        "id": "nUMLBbSIVOq0"
      },
      "source": [
        "y_test=df_test[187]\n",
        "X_test=df_test.drop(187, axis=1).values"
      ],
      "execution_count": null,
      "outputs": []
    },
    {
      "cell_type": "code",
      "metadata": {
        "id": "wYsbN2hB-dwG"
      },
      "source": [
        "classes = {0:'N', 1:'S',2: 'V', 3:'F', 4:'Q'}"
      ],
      "execution_count": null,
      "outputs": []
    },
    {
      "cell_type": "markdown",
      "metadata": {
        "id": "fFM31azJ028N"
      },
      "source": [
        "support vector machine model"
      ]
    },
    {
      "cell_type": "markdown",
      "metadata": {
        "id": "I-xSfG_v2Wrp"
      },
      "source": [
        "neural network model"
      ]
    },
    {
      "cell_type": "code",
      "metadata": {
        "id": "Ry7ikdjBhAe2"
      },
      "source": [
        "from sklearn.neural_network import MLPClassifier"
      ],
      "execution_count": null,
      "outputs": []
    },
    {
      "cell_type": "code",
      "metadata": {
        "id": "OHeueGzgvpK8"
      },
      "source": [
        "mlp = MLPClassifier(max_iter=800)\n",
        "mlp.fit(X, y)five\n",
        "pred_mlp = mlp.predict(X_test)"
      ],
      "execution_count": null,
      "outputs": []
    },
    {
      "cell_type": "code",
      "metadata": {
        "id": "IX4IuVvpWXpS",
        "colab": {
          "base_uri": "https://localhost:8080/",
          "height": 34
        },
        "outputId": "52354fdc-0c87-44e2-8c35-1b1304224038"
      },
      "source": [
        "from sklearn.metrics import accuracy_score\n",
        "accuracy_score(y_test, pred_mlp)"
      ],
      "execution_count": null,
      "outputs": [
        {
          "output_type": "execute_result",
          "data": {
            "text/plain": [
              "0.9509866617942627"
            ]
          },
          "metadata": {
            "tags": []
          },
          "execution_count": 40
        }
      ]
    },
    {
      "cell_type": "code",
      "metadata": {
        "id": "VEP9OQzE2jc-",
        "colab": {
          "base_uri": "https://localhost:8080/",
          "height": 34
        },
        "outputId": "ec9a3932-25c9-480f-d9fa-72df40be74f2"
      },
      "source": [
        "mlp.score(X,y)"
      ],
      "execution_count": null,
      "outputs": [
        {
          "output_type": "execute_result",
          "data": {
            "text/plain": [
              "0.9991"
            ]
          },
          "metadata": {
            "tags": []
          },
          "execution_count": 35
        }
      ]
    },
    {
      "cell_type": "code",
      "metadata": {
        "id": "pmwHOzyLK7Ip",
        "colab": {
          "base_uri": "https://localhost:8080/",
          "height": 225
        },
        "outputId": "31402d43-e350-41af-86e7-72201885c674"
      },
      "source": [
        "from sklearn.metrics import classification_report\n",
        "print(classification_report(y_test, pred_mlp))"
      ],
      "execution_count": null,
      "outputs": [
        {
          "output_type": "stream",
          "text": [
            "              precision    recall  f1-score   support\n",
            "\n",
            "         0.0       0.99      0.96      0.97     18118\n",
            "         1.0       0.54      0.81      0.65       556\n",
            "         2.0       0.83      0.94      0.88      1448\n",
            "         3.0       0.56      0.85      0.67       162\n",
            "         4.0       0.95      0.98      0.96      1608\n",
            "\n",
            "    accuracy                           0.95     21892\n",
            "   macro avg       0.77      0.91      0.83     21892\n",
            "weighted avg       0.96      0.95      0.96     21892\n",
            "\n"
          ],
          "name": "stdout"
        }
      ]
    },
    {
      "cell_type": "code",
      "metadata": {
        "id": "r8WNzhYPYpSq",
        "colab": {
          "base_uri": "https://localhost:8080/",
          "height": 104
        },
        "outputId": "4d2a0834-3045-4de8-c91b-9afad3c37f52"
      },
      "source": [
        "from sklearn.metrics import confusion_matrix\n",
        "confusion_matrix(y_test, pred_mlp)"
      ],
      "execution_count": null,
      "outputs": [
        {
          "output_type": "execute_result",
          "data": {
            "text/plain": [
              "array([[17351,   362,   248,    80,    77],\n",
              "       [   91,   449,    11,     4,     1],\n",
              "       [   31,    16,  1368,    22,    11],\n",
              "       [    8,     2,    14,   137,     1],\n",
              "       [   19,     7,    11,     3,  1568]])"
            ]
          },
          "metadata": {
            "tags": []
          },
          "execution_count": 37
        }
      ]
    },
    {
      "cell_type": "code",
      "metadata": {
        "id": "4Cz8FJDJrsDC",
        "colab": {
          "base_uri": "https://localhost:8080/",
          "height": 557
        },
        "outputId": "d3d683b9-6557-410b-f5da-62db522b714b"
      },
      "source": [
        "import numpy as np\n",
        "import matplotlib.pyplot as plt\n",
        "from sklearn import svm, datasets\n",
        "from sklearn.metrics import roc_curve, auc\n",
        "from sklearn.preprocessing import label_binarize\n",
        "from sklearn.multiclass import OneVsRestClassifier\n",
        "\n",
        "\n",
        "pred_mlp_pro = mlp.predict_proba(X_test)\n",
        "\n",
        "# Compute ROC curve and ROC area for each class\n",
        "fpr = dict()\n",
        "tpr = dict()\n",
        "roc_auc = dict()\n",
        "yt = y_test\n",
        "yt = label_binarize(yt, classes=[0,1,2,3,4])\n",
        "#pred_mlp_pro = label_binarize(pred_mlp, classes=[0,1,2,3,4])\n",
        "\n",
        "n_classes=5\n",
        "for i in range(n_classes):\n",
        "    fpr[i], tpr[i], _ = roc_curve(yt[:, i], pred_mlp_pro[:, i])\n",
        "    roc_auc[i] = auc(fpr[i], tpr[i])\n",
        "\n",
        "# Compute micro-average ROC curve and ROC area\n",
        "fpr[\"micro\"], tpr[\"micro\"], _ = roc_curve(yt.ravel(), pred_mlp_pro.ravel())\n",
        "roc_auc[\"micro\"] = auc(fpr[\"micro\"], tpr[\"micro\"])\n",
        "\n",
        "# Plot of a ROC curve for a specific class\n",
        "plt.figure()\n",
        "plt.plot(fpr[2], tpr[2], label='ROC curve (area = %0.3f)' % roc_auc[2])\n",
        "plt.plot([0, 1], [0, 1], 'k--')\n",
        "plt.xlim([0.0, 1.0])\n",
        "plt.ylim([0.0, 1.05])\n",
        "plt.xlabel('False Positive Rate')\n",
        "plt.ylabel('True Positive Rate')\n",
        "plt.title('Receiver operating characteristic example')\n",
        "plt.legend(loc=\"lower right\")\n",
        "plt.show()\n",
        "\n",
        "# Plot ROC curve\n",
        "plt.figure()\n",
        "plt.plot(fpr[\"micro\"], tpr[\"micro\"],\n",
        "         label='micro-avg ROC (area = {0:0.3f})'\n",
        "               ''.format(roc_auc[\"micro\"]))\n",
        "for i in range(n_classes):\n",
        "    plt.plot(fpr[i], tpr[i], label='ROC of class {0} (area = {1:0.3f})'\n",
        "                                   ''.format(classes[i], roc_auc[i]))\n",
        "\n",
        "plt.plot([0, 1], [0, 1], 'k--')\n",
        "plt.xlim([0.0, 1.0])\n",
        "plt.ylim([0.0, 1.05])\n",
        "plt.xticks(ha='left')\n",
        "plt.xlabel('False Positive Rate')\n",
        "plt.ylabel('True Positive Rate')\n",
        "plt.legend(loc=\"lower right\")\n",
        "plt.savefig('MLP_roc.pdf', format='pdf')\n"
      ],
      "execution_count": null,
      "outputs": [
        {
          "output_type": "display_data",
          "data": {
            "image/png": "[encoded data removed]",
            "text/plain": [
              "<Figure size 432x288 with 1 Axes>"
            ]
          },
          "metadata": {
            "tags": [],
            "needs_background": "light"
          }
        },
        {
          "output_type": "display_data",
          "data": {
            "image/png": "[encoded data removed]",
            "text/plain": [
              "<Figure size 432x288 with 1 Axes>"
            ]
          },
          "metadata": {
            "tags": [],
            "needs_background": "light"
          }
        }
      ]
    },
    {
      "cell_type": "code",
      "metadata": {
        "id": "0ReRISa7YphD",
        "colab": {
          "base_uri": "https://localhost:8080/",
          "height": 121
        },
        "outputId": "8a51500c-9b26-4162-f5e8-490740d0f6d3"
      },
      "source": [
        "from sklearn.metrics import roc_auc_score\n",
        "\n",
        "macro_roc_auc_ovo = roc_auc_score(y_test, pred_mlp_pro, multi_class=\"ovo\",\n",
        "                                  average=\"macro\")\n",
        "weighted_roc_auc_ovo = roc_auc_score(y_test, pred_mlp_pro, multi_class=\"ovo\",\n",
        "                                     average=\"weighted\")\n",
        "macro_roc_auc_ovr = roc_auc_score(y_test, pred_mlp_pro, multi_class=\"ovr\",\n",
        "                                  average=\"macro\")\n",
        "weighted_roc_auc_ovr = roc_auc_score(y_test, pred_mlp_pro, multi_class=\"ovr\",\n",
        "                                     average=\"weighted\")\n",
        "print(\"One-vs-One ROC AUC scores:\\n{:.6f} (macro),\\n{:.6f} \"\n",
        "      \"(weighted by prevalence)\"\n",
        "      .format(macro_roc_auc_ovo, weighted_roc_auc_ovo))\n",
        "print(\"One-vs-Rest ROC AUC scores:\\n{:.6f} (macro),\\n{:.6f} \"\n",
        "      \"(weighted by prevalence)\"\n",
        "      .format(macro_roc_auc_ovr, weighted_roc_auc_ovr))"
      ],
      "execution_count": null,
      "outputs": [
        {
          "output_type": "stream",
          "text": [
            "One-vs-One ROC AUC scores:\n",
            "0.983348 (macro),\n",
            "0.979950 (weighted by prevalence)\n",
            "One-vs-Rest ROC AUC scores:\n",
            "0.980924 (macro),\n",
            "0.986454 (weighted by prevalence)\n"
          ],
          "name": "stdout"
        }
      ]
    },
    {
      "cell_type": "code",
      "metadata": {
        "id": "iUG_m_IZbPb_"
      },
      "source": [
        "from sklearn.linear_model import LogisticRegression\n",
        "logreg = LogisticRegression(max_iter=900, solver='saga')\n",
        "logreg.fit(X, y)\n",
        "pred_logreg = logreg.predict(X_test)"
      ],
      "execution_count": null,
      "outputs": []
    },
    {
      "cell_type": "code",
      "metadata": {
        "id": "jrYICVgybJqZ",
        "colab": {
          "base_uri": "https://localhost:8080/",
          "height": 34
        },
        "outputId": "ee23c7f8-c4e4-49dc-de55-fe300e21c83d"
      },
      "source": [
        "from sklearn.metrics import accuracy_score\n",
        "accuracy_score(y_test, pred_logreg)"
      ],
      "execution_count": null,
      "outputs": [
        {
          "output_type": "execute_result",
          "data": {
            "text/plain": [
              "0.676411474511237"
            ]
          },
          "metadata": {
            "tags": []
          },
          "execution_count": 20
        }
      ]
    },
    {
      "cell_type": "code",
      "metadata": {
        "id": "viJgq0fe-wJt",
        "colab": {
          "base_uri": "https://localhost:8080/",
          "height": 34
        },
        "outputId": "7e3667a7-bf12-4690-90ca-f053fd989315"
      },
      "source": [
        "from sklearn.metrics import f1_score\n",
        "f1_score(y_test, pred_logreg, average='micro')"
      ],
      "execution_count": null,
      "outputs": [
        {
          "output_type": "execute_result",
          "data": {
            "text/plain": [
              "0.676411474511237"
            ]
          },
          "metadata": {
            "tags": []
          },
          "execution_count": 21
        }
      ]
    },
    {
      "cell_type": "code",
      "metadata": {
        "id": "RIJg3wdscjCt",
        "colab": {
          "base_uri": "https://localhost:8080/",
          "height": 279
        },
        "outputId": "1eb82fd6-6b36-4b4c-8cc3-86588373e63a"
      },
      "source": [
        "import numpy as np\n",
        "import matplotlib.pyplot as plt\n",
        "from sklearn import svm, datasets\n",
        "from sklearn.metrics import roc_curve, auc\n",
        "from sklearn.preprocessing import label_binarize\n",
        "from sklearn.multiclass import OneVsRestClassifier\n",
        "\n",
        "n_classes=5\n",
        "pred_logreg_pro = logreg.predict_proba(X_test)\n",
        "\n",
        "yt = y_test\n",
        "yt = label_binarize(yt, classes=[0,1,2,3,4])\n",
        "\n",
        "# Compute ROC curve and ROC area for each class\n",
        "fpr = dict()\n",
        "tpr = dict()\n",
        "roc_auc = dict()\n",
        "#pred_mlp_pro = label_binarize(pred_mlp, classes=[0,1,2,3,4])\n",
        "\n",
        "\n",
        "for i in range(n_classes):\n",
        "    fpr[i], tpr[i], _ = roc_curve(yt[:, i], pred_logreg_pro[:, i])\n",
        "    roc_auc[i] = auc(fpr[i], tpr[i])\n",
        "\n",
        "# Compute micro-average ROC curve and ROC area\n",
        "fpr[\"micro\"], tpr[\"micro\"], _ = roc_curve(yt.ravel(), pred_logreg_pro.ravel())\n",
        "roc_auc[\"micro\"] = auc(fpr[\"micro\"], tpr[\"micro\"])\n",
        "\n",
        "\n",
        "# Plot ROC curve\n",
        "plt.figure()\n",
        "plt.plot(fpr[\"micro\"], tpr[\"micro\"],\n",
        "         label='micro-avg ROC (area = {0:0.3f})'\n",
        "               ''.format(roc_auc[\"micro\"]))\n",
        "for i in range(n_classes):\n",
        "    plt.plot(fpr[i], tpr[i], label='ROC of class {0} (area = {1:0.3f})'\n",
        "                                   ''.format(classes[i], roc_auc[i]))\n",
        "\n",
        "plt.plot([0, 1], [0, 1], 'k--')\n",
        "plt.xlim([0.0, 1.0])\n",
        "plt.ylim([0.0, 1.05])\n",
        "plt.xlabel('False Positive Rate')\n",
        "plt.ylabel('True Positive Rate')\n",
        "plt.legend(loc=\"lower right\")\n",
        "plt.savefig('LR_roc.pdf', format='pdf')\n"
      ],
      "execution_count": null,
      "outputs": [
        {
          "output_type": "display_data",
          "data": {
            "image/png": "[encoded data removed]",
            "text/plain": [
              "<Figure size 432x288 with 1 Axes>"
            ]
          },
          "metadata": {
            "tags": [],
            "needs_background": "light"
          }
        }
      ]
    },
    {
      "cell_type": "code",
      "metadata": {
        "id": "tfJElvsbdwoX",
        "colab": {
          "base_uri": "https://localhost:8080/",
          "height": 225
        },
        "outputId": "feb3ab71-0423-403e-bf67-329066e0c585"
      },
      "source": [
        "from sklearn.metrics import classification_report\n",
        "print(classification_report(y_test, pred_logreg))"
      ],
      "execution_count": null,
      "outputs": [
        {
          "output_type": "stream",
          "text": [
            "              precision    recall  f1-score   support\n",
            "\n",
            "         0.0       0.97      0.65      0.78     18118\n",
            "         1.0       0.15      0.67      0.24       556\n",
            "         2.0       0.29      0.72      0.42      1448\n",
            "         3.0       0.08      0.88      0.15       162\n",
            "         4.0       0.74      0.91      0.82      1608\n",
            "\n",
            "    accuracy                           0.68     21892\n",
            "   macro avg       0.45      0.76      0.48     21892\n",
            "weighted avg       0.88      0.68      0.74     21892\n",
            "\n"
          ],
          "name": "stdout"
        }
      ]
    },
    {
      "cell_type": "code",
      "metadata": {
        "id": "xLUykDrJrfQ3",
        "colab": {
          "base_uri": "https://localhost:8080/",
          "height": 104
        },
        "outputId": "4f710485-0a99-4bba-a3ed-b71047aca324"
      },
      "source": [
        "from sklearn.metrics import confusion_matrix\n",
        "confusion_matrix(y_test, pred_logreg)"
      ],
      "execution_count": null,
      "outputs": [
        {
          "output_type": "execute_result",
          "data": {
            "text/plain": [
              "array([[11790,  2085,  2369,  1415,   459],\n",
              "       [  125,   370,    31,    20,    10],\n",
              "       [  158,    53,  1038,   153,    46],\n",
              "       [   11,     0,     9,   142,     0],\n",
              "       [   49,     5,    73,    13,  1468]])"
            ]
          },
          "metadata": {
            "tags": []
          },
          "execution_count": 17
        }
      ]
    },
    {
      "cell_type": "code",
      "metadata": {
        "id": "jj6bTELcrfOU",
        "colab": {
          "base_uri": "https://localhost:8080/",
          "height": 121
        },
        "outputId": "09d3f6d1-2746-4f79-ce7f-aa4e90b9e610"
      },
      "source": [
        "from sklearn.metrics import roc_auc_score\n",
        "\n",
        "macro_roc_auc_ovo = roc_auc_score(y_test, pred_logreg_pro, multi_class=\"ovo\",\n",
        "                                  average=\"macro\")\n",
        "weighted_roc_auc_ovo = roc_auc_score(y_test, pred_logreg_pro, multi_class=\"ovo\",\n",
        "                                     average=\"weighted\")\n",
        "macro_roc_auc_ovr = roc_auc_score(y_test, pred_logreg_pro, multi_class=\"ovr\",\n",
        "                                  average=\"macro\")\n",
        "weighted_roc_auc_ovr = roc_auc_score(y_test, pred_logreg_pro, multi_class=\"ovr\",\n",
        "                                     average=\"weighted\")\n",
        "print(\"One-vs-One ROC AUC scores:\\n{:.6f} (macro),\\n{:.6f} \"\n",
        "      \"(weighted by prevalence)\"\n",
        "      .format(macro_roc_auc_ovo, weighted_roc_auc_ovo))\n",
        "print(\"One-vs-Rest ROC AUC scores:\\n{:.6f} (macro),\\n{:.6f} \"\n",
        "      \"(weighted by prevalence)\"\n",
        "      .format(macro_roc_auc_ovr, weighted_roc_auc_ovr))"
      ],
      "execution_count": null,
      "outputs": [
        {
          "output_type": "stream",
          "text": [
            "One-vs-One ROC AUC scores:\n",
            "0.939251 (macro),\n",
            "0.907547 (weighted by prevalence)\n",
            "One-vs-Rest ROC AUC scores:\n",
            "0.916049 (macro),\n",
            "0.905017 (weighted by prevalence)\n"
          ],
          "name": "stdout"
        }
      ]
    },
    {
      "cell_type": "code",
      "metadata": {
        "id": "91ABQlO5dxB3"
      },
      "source": [
        "from sklearn.svm import SVC\n",
        "clf = SVC(kernel=\"linear\")\n",
        "clf.fit(X, y)\n",
        "pred = clf.predict(X_test)"
      ],
      "execution_count": null,
      "outputs": []
    },
    {
      "cell_type": "code",
      "metadata": {
        "id": "Pq-0s5s19pM4",
        "colab": {
          "base_uri": "https://localhost:8080/",
          "height": 34
        },
        "outputId": "9b6edf00-3cc0-45a5-de3d-8324158efbeb"
      },
      "source": [
        "accuracy_score(y_test, pred)"
      ],
      "execution_count": null,
      "outputs": [
        {
          "output_type": "execute_result",
          "data": {
            "text/plain": [
              "0.7568061392289421"
            ]
          },
          "metadata": {
            "tags": []
          },
          "execution_count": 24
        }
      ]
    },
    {
      "cell_type": "code",
      "metadata": {
        "id": "D1a0qBiidw6f",
        "colab": {
          "base_uri": "https://localhost:8080/",
          "height": 279
        },
        "outputId": "02c44954-9aae-47e7-a120-734e2603a5c1"
      },
      "source": [
        "import numpy as np\n",
        "import matplotlib.pyplot as plt\n",
        "from sklearn import svm, datasets\n",
        "from sklearn.metrics import roc_curve, auc\n",
        "from sklearn.preprocessing import label_binarize\n",
        "from sklearn.multiclass import OneVsRestClassifier\n",
        "\n",
        "\n",
        "pred_clf_pro = clf.decision_function(X_test)\n",
        "\n",
        "# Compute ROC curve and ROC area for each class\n",
        "fpr = dict()\n",
        "tpr = dict()\n",
        "roc_auc = dict()\n",
        "#pred_mlp_pro = label_binarize(pred_mlp, classes=[0,1,2,3,4])\n",
        "\n",
        "\n",
        "for i in range(n_classes):\n",
        "    fpr[i], tpr[i], _ = roc_curve(yt[:, i], pred_clf_pro[:, i])\n",
        "    roc_auc[i] = auc(fpr[i], tpr[i])\n",
        "\n",
        "# Compute micro-average ROC curve and ROC area\n",
        "fpr[\"micro\"], tpr[\"micro\"], _ = roc_curve(yt.ravel(), pred_clf_pro.ravel())\n",
        "roc_auc[\"micro\"] = auc(fpr[\"micro\"], tpr[\"micro\"])\n",
        "\n",
        "\n",
        "# Plot ROC curve\n",
        "plt.figure()\n",
        "plt.plot(fpr[\"micro\"], tpr[\"micro\"],\n",
        "         label='micro-avg ROC (area = {0:0.3f})'\n",
        "               ''.format(roc_auc[\"micro\"]))\n",
        "for i in range(n_classes):\n",
        "    plt.plot(fpr[i], tpr[i], label='ROC of class {0} (area = {1:0.3f})'\n",
        "                                   ''.format(classes[i], roc_auc[i]))\n",
        "\n",
        "plt.plot([0, 1], [0, 1], 'k--')\n",
        "plt.xlim([0.0, 1.0])\n",
        "plt.ylim([0.0, 1.05])\n",
        "plt.xlabel('False Positive Rate')\n",
        "plt.ylabel('True Positive Rate')\n",
        "plt.legend(loc=\"lower right\")\n",
        "plt.savefig('SVC_roc.pdf', format='pdf')\n"
      ],
      "execution_count": null,
      "outputs": [
        {
          "output_type": "display_data",
          "data": {
            "image/png": "[encoded data removed]",
            "text/plain": [
              "<Figure size 432x288 with 1 Axes>"
            ]
          },
          "metadata": {
            "tags": [],
            "needs_background": "light"
          }
        }
      ]
    },
    {
      "cell_type": "code",
      "metadata": {
        "id": "pvwylNft65so",
        "colab": {
          "base_uri": "https://localhost:8080/",
          "height": 225
        },
        "outputId": "e4b85785-cf63-4fc3-ac9a-d69b611fe2b0"
      },
      "source": [
        "from sklearn.metrics import classification_report\n",
        "print(classification_report(y_test, pred))"
      ],
      "execution_count": null,
      "outputs": [
        {
          "output_type": "stream",
          "text": [
            "              precision    recall  f1-score   support\n",
            "\n",
            "         0.0       0.97      0.74      0.84     18118\n",
            "         1.0       0.28      0.65      0.39       556\n",
            "         2.0       0.33      0.79      0.47      1448\n",
            "         3.0       0.10      0.88      0.17       162\n",
            "         4.0       0.80      0.91      0.85      1608\n",
            "\n",
            "    accuracy                           0.76     21892\n",
            "   macro avg       0.50      0.79      0.55     21892\n",
            "weighted avg       0.89      0.76      0.80     21892\n",
            "\n"
          ],
          "name": "stdout"
        }
      ]
    },
    {
      "cell_type": "code",
      "metadata": {
        "id": "lOId-P5Q8eSm",
        "colab": {
          "base_uri": "https://localhost:8080/",
          "height": 104
        },
        "outputId": "81abcece-c33e-459b-a223-a3df555ae96c"
      },
      "source": [
        "from sklearn.metrics import confusion_matrix\n",
        "confusion_matrix(y_test, pred)"
      ],
      "execution_count": null,
      "outputs": [
        {
          "output_type": "execute_result",
          "data": {
            "text/plain": [
              "array([[13456,   869,  2241,  1207,   345],\n",
              "       [  142,   360,    28,    24,     2],\n",
              "       [  150,    32,  1147,    99,    20],\n",
              "       [   11,     0,     8,   143,     0],\n",
              "       [   69,     6,    57,    14,  1462]])"
            ]
          },
          "metadata": {
            "tags": []
          },
          "execution_count": 56
        }
      ]
    }
  ]
}
